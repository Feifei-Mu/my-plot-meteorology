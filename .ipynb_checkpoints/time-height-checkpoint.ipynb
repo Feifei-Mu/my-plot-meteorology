{
 "cells": [
  {
   "cell_type": "code",
   "execution_count": null,
   "id": "c8e19ae8",
   "metadata": {},
   "outputs": [],
   "source": [
    "import xarray as xr\n",
    "import matplotlib.pyplot as plt\n",
    "import matplotlib\n",
    "import numpy as np\n",
    "import cfgrib\n",
    "import cartopy.crs as ccrs\n",
    "import cartopy\n",
    "from astropy.constants import g0\n",
    "import math\n",
    "import netCDF4 as nc\n",
    "import metpy.calc as mpcalc\n",
    "import matplotlib.ticker as mticker\n",
    "from datetime import datetime,timedelta\n",
    "import pandas as pd\n",
    "import matplotlib.dates as mdate\n",
    "from metpy.units import units\n",
    "%matplotlib inline\n",
    "\n",
    "plt.rc('font',family='Arial',size=15)"
   ]
  },
  {
   "cell_type": "code",
   "execution_count": null,
   "id": "e7ed5edd",
   "metadata": {},
   "outputs": [],
   "source": [
    "ds = xr.open_dataset(\"../data/low_level_jets/llj_bt.nc\")"
   ]
  },
  {
   "cell_type": "code",
   "execution_count": null,
   "id": "5e5ff76f",
   "metadata": {},
   "outputs": [],
   "source": [
    "args = {'name':'mean_ws',\n",
    "        'units': 'm/s'}\n",
    "ds['mean_ws'] = ds.ws.mean('lat').mean('lon')\n",
    "ds.mean_ws.attrs = args\n",
    "\n",
    "\n",
    "\n",
    "# convert the x and y axis\n",
    "args = {'name':'mean_ws_convert_axis',\n",
    "        'units': 'm/s'}\n",
    "ds['llj'] = ds.mean_ws.T\n",
    "ds.llj.attrs = args"
   ]
  },
  {
   "cell_type": "code",
   "execution_count": null,
   "id": "5c769e4a",
   "metadata": {},
   "outputs": [],
   "source": [
    "ds['height'] = mpcalc.pressure_to_height_std(ds['level'])"
   ]
  },
  {
   "cell_type": "code",
   "execution_count": null,
   "id": "f5a08e41",
   "metadata": {},
   "outputs": [],
   "source": [
    "ds.keys()"
   ]
  },
  {
   "cell_type": "code",
   "execution_count": null,
   "id": "ebccf1cb",
   "metadata": {},
   "outputs": [],
   "source": [
    "args = {'name':'height_m',\n",
    "        'units': 'm'}\n",
    "ds['height_m'] = ds.height*1000\n",
    "ds.height_m.attrs = args"
   ]
  },
  {
   "cell_type": "code",
   "execution_count": null,
   "id": "9b345631",
   "metadata": {},
   "outputs": [],
   "source": [
    "ds.keys()"
   ]
  },
  {
   "cell_type": "code",
   "execution_count": null,
   "id": "05748472",
   "metadata": {},
   "outputs": [],
   "source": [
    "args = {'name':'AGL',\n",
    "        'units': 'm'}\n",
    "ds['AGL'] = ds.height_m - 1219000. * units.meter\n",
    "ds.AGL.attrs = args"
   ]
  },
  {
   "cell_type": "code",
   "execution_count": null,
   "id": "82f23663",
   "metadata": {},
   "outputs": [],
   "source": [
    "ds.keys()"
   ]
  },
  {
   "cell_type": "code",
   "execution_count": null,
   "id": "6041d49a",
   "metadata": {},
   "outputs": [],
   "source": [
    "ds.set_coords('AGL')"
   ]
  },
  {
   "cell_type": "code",
   "execution_count": null,
   "id": "91e1406d",
   "metadata": {},
   "outputs": [],
   "source": [
    "ds.max(),ds.min()"
   ]
  },
  {
   "cell_type": "code",
   "execution_count": null,
   "id": "a50062e3",
   "metadata": {},
   "outputs": [],
   "source": [
    "# define a figure\n",
    "fig = plt.figure(figsize=(7,5))\n",
    "\n",
    "\n",
    "# add first subplots\n",
    "ax = fig.add_subplot(1,1,1)\n",
    "\n",
    "# convert the y label for 100-1000 to 1000-100\n",
    "#ax.invert_yaxis()\n",
    "\n",
    "\n",
    "# plot shading for wind speed\n",
    "llj = np.arange(0, 19, 0.01)\n",
    "cf = ax.contourf(ds.time, ds.AGL, ds.llj, llj, cmap=\"BrBG_r\", extend='max')\n",
    "                                                            #cmap=plt.cm.coolwarm:from cool to warm\n",
    "                                                            #CMRmap_r \n",
    "                                                            #plt.cm.YlOrRd\n",
    "ax.xaxis.set_major_formatter(mdate.DateFormatter('%d'))#设置时间标签显示格式\n",
    "\n",
    "\n",
    "ax.set_ylabel('Height above terrain [km]')   #set y label\n",
    "ax.set_xlabel('Day of March')\n",
    "\n",
    "\n",
    "ax.set_ylim(0,3000)\n",
    "\n",
    "\n",
    "\n",
    "\n",
    "\n",
    "\n",
    "cb = plt.colorbar(cf, orientation='horizontal', pad=0.2, aspect=25, shrink=0.7)\n",
    "cb.set_ticks([0, 5, 10, 15, 20])"
   ]
  },
  {
   "cell_type": "code",
   "execution_count": null,
   "id": "a3cba188",
   "metadata": {},
   "outputs": [],
   "source": [
    "fig.savefig(\"../results/dust_emission_ddp_mr/low_level_jets/bt_20210311-20.eps\",dpi=300)"
   ]
  },
  {
   "cell_type": "code",
   "execution_count": null,
   "id": "851b37a0",
   "metadata": {},
   "outputs": [],
   "source": []
  }
 ],
 "metadata": {
  "kernelspec": {
   "display_name": "Python 3 (ipykernel)",
   "language": "python",
   "name": "python3"
  },
  "language_info": {
   "codemirror_mode": {
    "name": "ipython",
    "version": 3
   },
   "file_extension": ".py",
   "mimetype": "text/x-python",
   "name": "python",
   "nbconvert_exporter": "python",
   "pygments_lexer": "ipython3",
   "version": "3.9.6"
  }
 },
 "nbformat": 4,
 "nbformat_minor": 5
}
